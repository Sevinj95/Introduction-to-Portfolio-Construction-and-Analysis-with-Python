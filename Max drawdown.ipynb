{
 "cells": [
  {
   "cell_type": "code",
   "execution_count": 1,
   "id": "f8bc5ea4",
   "metadata": {},
   "outputs": [],
   "source": [
    "import pandas as pd\n",
    "import numpy as np"
   ]
  },
  {
   "cell_type": "code",
   "execution_count": 30,
   "id": "f55a7fbb",
   "metadata": {},
   "outputs": [
    {
     "data": {
      "text/html": [
       "<div>\n",
       "<style scoped>\n",
       "    .dataframe tbody tr th:only-of-type {\n",
       "        vertical-align: middle;\n",
       "    }\n",
       "\n",
       "    .dataframe tbody tr th {\n",
       "        vertical-align: top;\n",
       "    }\n",
       "\n",
       "    .dataframe thead th {\n",
       "        text-align: right;\n",
       "    }\n",
       "</style>\n",
       "<table border=\"1\" class=\"dataframe\">\n",
       "  <thead>\n",
       "    <tr style=\"text-align: right;\">\n",
       "      <th></th>\n",
       "      <th>Small Cap</th>\n",
       "      <th>Large Cap</th>\n",
       "    </tr>\n",
       "  </thead>\n",
       "  <tbody>\n",
       "    <tr>\n",
       "      <th>1926-07</th>\n",
       "      <td>-0.0145</td>\n",
       "      <td>0.0329</td>\n",
       "    </tr>\n",
       "    <tr>\n",
       "      <th>1926-08</th>\n",
       "      <td>0.0512</td>\n",
       "      <td>0.0370</td>\n",
       "    </tr>\n",
       "    <tr>\n",
       "      <th>1926-09</th>\n",
       "      <td>0.0093</td>\n",
       "      <td>0.0067</td>\n",
       "    </tr>\n",
       "    <tr>\n",
       "      <th>1926-10</th>\n",
       "      <td>-0.0484</td>\n",
       "      <td>-0.0243</td>\n",
       "    </tr>\n",
       "    <tr>\n",
       "      <th>1926-11</th>\n",
       "      <td>-0.0078</td>\n",
       "      <td>0.0270</td>\n",
       "    </tr>\n",
       "  </tbody>\n",
       "</table>\n",
       "</div>"
      ],
      "text/plain": [
       "         Small Cap  Large Cap\n",
       "1926-07    -0.0145     0.0329\n",
       "1926-08     0.0512     0.0370\n",
       "1926-09     0.0093     0.0067\n",
       "1926-10    -0.0484    -0.0243\n",
       "1926-11    -0.0078     0.0270"
      ]
     },
     "execution_count": 30,
     "metadata": {},
     "output_type": "execute_result"
    }
   ],
   "source": [
    "#importing the csv file with the dates idnex\n",
    "returns=pd.read_csv(\"data/portfolios_formed_on_ME_monthly_EW.csv\", index_col=[0], parse_dates=True, na_values=-99.99)\n",
    "#taking only the lowest and highest 10% of stocks, eg Small Cap and Large Cap\n",
    "columns=[\"Lo 10\", \"Hi 10\"]\n",
    "returns=returns[columns]\n",
    "returns.columns=[\"Small Cap\", \"Large Cap\"]\n",
    "#changing the dates to Year and months format and removing the dates\n",
    "returns.index=pd.to_datetime(returns.index, format=\"%Y%m\")\n",
    "returns.index=returns.index.to_period(\"M\")\n",
    "#showing the returns in %\n",
    "returns=returns/100\n",
    "returns.head()"
   ]
  },
  {
   "cell_type": "code",
   "execution_count": 32,
   "id": "0a0a92bd",
   "metadata": {},
   "outputs": [
    {
     "data": {
      "text/plain": [
       "1926-07    1032.900000\n",
       "1926-08    1071.117300\n",
       "1926-09    1078.293786\n",
       "1926-10    1052.091247\n",
       "1926-11    1080.497711\n",
       "Freq: M, Name: Large Cap, dtype: float64"
      ]
     },
     "execution_count": 32,
     "metadata": {},
     "output_type": "execute_result"
    }
   ],
   "source": [
    "#wealth index is how much invested 1000 changes over the time\n",
    "wealth_index=1000*(1+returns[\"Large Cap\"]).cumprod()\n",
    "wealth_index.head()"
   ]
  },
  {
   "cell_type": "code",
   "execution_count": 55,
   "id": "fa4b0935",
   "metadata": {},
   "outputs": [
    {
     "data": {
      "text/plain": [
       "-0.8400375277943123"
      ]
     },
     "execution_count": 55,
     "metadata": {},
     "output_type": "execute_result"
    }
   ],
   "source": [
    "#previous peaks is the highest achieved wealth from 1000 usd until the indicated date\n",
    "previous_peaks=wealth_index.cummax()\n",
    "#drawdown is the maximum loss in %\n",
    "drawdown=(wealth_index-previous_peaks)/previous_peaks\n",
    "#drawdown min to show the maximum drawdown as it is in minus\n",
    "drawdown.min()"
   ]
  },
  {
   "cell_type": "code",
   "execution_count": 54,
   "id": "17fdacc3",
   "metadata": {},
   "outputs": [
    {
     "data": {
      "text/plain": [
       "Period('1932-05', 'M')"
      ]
     },
     "execution_count": 54,
     "metadata": {},
     "output_type": "execute_result"
    }
   ],
   "source": [
    "#when did the above drawdown happened?\n",
    "drawdown.idxmin()"
   ]
  },
  {
   "cell_type": "code",
   "execution_count": 61,
   "id": "74dc3ac8",
   "metadata": {},
   "outputs": [],
   "source": [
    "#what is I want to do with Small Caps? lets create function.\n",
    "def drawdown(return_series:pd.Series):\n",
    "    \"\"\"\n",
    "    This function takes returns,calculates wealth index, previous peaks, drawndowns, thus we can assign Small Cap. \n",
    "    \"\"\"\n",
    "  \n",
    "    wealth_index=1000*(1+return_series).cumprod()\n",
    "    previous_peaks=wealth_index.cummax()\n",
    "    drawdowns=(wealth_index-previous_peaks)/previous_peaks\n",
    "    return pd.DataFrame({\n",
    "        \"Wealth\": wealth_index,\n",
    "        \"Peaks\": previous_peaks,\n",
    "        \"Drawdowns\": drawdowns\n",
    "    })"
   ]
  },
  {
   "cell_type": "code",
   "execution_count": 76,
   "id": "9efa732c",
   "metadata": {},
   "outputs": [
    {
     "name": "stderr",
     "output_type": "stream",
     "text": [
      "<ipython-input-76-55eed15a35b3>:1: FutureWarning: Indexing a DataFrame with a datetimelike index using a single string to slice the rows, like `frame[string]`, is deprecated and will be removed in a future version. Use `frame.loc[string]` instead.\n",
      "  drawdown(returns[\"1950\"][\"Large Cap\"])[[\"Wealth\",\"Peaks\"]].head(100)\n"
     ]
    },
    {
     "data": {
      "text/html": [
       "<div>\n",
       "<style scoped>\n",
       "    .dataframe tbody tr th:only-of-type {\n",
       "        vertical-align: middle;\n",
       "    }\n",
       "\n",
       "    .dataframe tbody tr th {\n",
       "        vertical-align: top;\n",
       "    }\n",
       "\n",
       "    .dataframe thead th {\n",
       "        text-align: right;\n",
       "    }\n",
       "</style>\n",
       "<table border=\"1\" class=\"dataframe\">\n",
       "  <thead>\n",
       "    <tr style=\"text-align: right;\">\n",
       "      <th></th>\n",
       "      <th>Wealth</th>\n",
       "      <th>Peaks</th>\n",
       "    </tr>\n",
       "  </thead>\n",
       "  <tbody>\n",
       "    <tr>\n",
       "      <th>1950-01</th>\n",
       "      <td>1014.300000</td>\n",
       "      <td>1014.300000</td>\n",
       "    </tr>\n",
       "    <tr>\n",
       "      <th>1950-02</th>\n",
       "      <td>1021.400100</td>\n",
       "      <td>1021.400100</td>\n",
       "    </tr>\n",
       "    <tr>\n",
       "      <th>1950-03</th>\n",
       "      <td>1033.963321</td>\n",
       "      <td>1033.963321</td>\n",
       "    </tr>\n",
       "    <tr>\n",
       "      <th>1950-04</th>\n",
       "      <td>1065.292410</td>\n",
       "      <td>1065.292410</td>\n",
       "    </tr>\n",
       "    <tr>\n",
       "      <th>1950-05</th>\n",
       "      <td>1112.378334</td>\n",
       "      <td>1112.378334</td>\n",
       "    </tr>\n",
       "    <tr>\n",
       "      <th>1950-06</th>\n",
       "      <td>1048.082867</td>\n",
       "      <td>1112.378334</td>\n",
       "    </tr>\n",
       "    <tr>\n",
       "      <th>1950-07</th>\n",
       "      <td>1056.153105</td>\n",
       "      <td>1112.378334</td>\n",
       "    </tr>\n",
       "    <tr>\n",
       "      <th>1950-08</th>\n",
       "      <td>1103.891225</td>\n",
       "      <td>1112.378334</td>\n",
       "    </tr>\n",
       "    <tr>\n",
       "      <th>1950-09</th>\n",
       "      <td>1157.981895</td>\n",
       "      <td>1157.981895</td>\n",
       "    </tr>\n",
       "    <tr>\n",
       "      <th>1950-10</th>\n",
       "      <td>1156.013326</td>\n",
       "      <td>1157.981895</td>\n",
       "    </tr>\n",
       "    <tr>\n",
       "      <th>1950-11</th>\n",
       "      <td>1192.658948</td>\n",
       "      <td>1192.658948</td>\n",
       "    </tr>\n",
       "    <tr>\n",
       "      <th>1950-12</th>\n",
       "      <td>1253.365289</td>\n",
       "      <td>1253.365289</td>\n",
       "    </tr>\n",
       "  </tbody>\n",
       "</table>\n",
       "</div>"
      ],
      "text/plain": [
       "              Wealth        Peaks\n",
       "1950-01  1014.300000  1014.300000\n",
       "1950-02  1021.400100  1021.400100\n",
       "1950-03  1033.963321  1033.963321\n",
       "1950-04  1065.292410  1065.292410\n",
       "1950-05  1112.378334  1112.378334\n",
       "1950-06  1048.082867  1112.378334\n",
       "1950-07  1056.153105  1112.378334\n",
       "1950-08  1103.891225  1112.378334\n",
       "1950-09  1157.981895  1157.981895\n",
       "1950-10  1156.013326  1157.981895\n",
       "1950-11  1192.658948  1192.658948\n",
       "1950-12  1253.365289  1253.365289"
      ]
     },
     "execution_count": 76,
     "metadata": {},
     "output_type": "execute_result"
    }
   ],
   "source": [
    "#the results of the year of 1950 for Large caps for wealth and peaks\n",
    "drawdown(returns[\"1950\"][\"Large Cap\"])[[\"Wealth\",\"Peaks\"]].head(100)"
   ]
  },
  {
   "cell_type": "code",
   "execution_count": 77,
   "id": "2fe85598",
   "metadata": {},
   "outputs": [
    {
     "name": "stderr",
     "output_type": "stream",
     "text": [
      "<ipython-input-77-46153f63c732>:2: FutureWarning: Indexing a DataFrame with a datetimelike index using a single string to slice the rows, like `frame[string]`, is deprecated and will be removed in a future version. Use `frame.loc[string]` instead.\n",
      "  drawdown(returns[\"1950\"][\"Small Cap\"])[[\"Wealth\",\"Peaks\"]].head(100)\n"
     ]
    },
    {
     "data": {
      "text/html": [
       "<div>\n",
       "<style scoped>\n",
       "    .dataframe tbody tr th:only-of-type {\n",
       "        vertical-align: middle;\n",
       "    }\n",
       "\n",
       "    .dataframe tbody tr th {\n",
       "        vertical-align: top;\n",
       "    }\n",
       "\n",
       "    .dataframe thead th {\n",
       "        text-align: right;\n",
       "    }\n",
       "</style>\n",
       "<table border=\"1\" class=\"dataframe\">\n",
       "  <thead>\n",
       "    <tr style=\"text-align: right;\">\n",
       "      <th></th>\n",
       "      <th>Wealth</th>\n",
       "      <th>Peaks</th>\n",
       "    </tr>\n",
       "  </thead>\n",
       "  <tbody>\n",
       "    <tr>\n",
       "      <th>1950-01</th>\n",
       "      <td>1061.800000</td>\n",
       "      <td>1061.800000</td>\n",
       "    </tr>\n",
       "    <tr>\n",
       "      <th>1950-02</th>\n",
       "      <td>1090.468600</td>\n",
       "      <td>1090.468600</td>\n",
       "    </tr>\n",
       "    <tr>\n",
       "      <th>1950-03</th>\n",
       "      <td>1085.561491</td>\n",
       "      <td>1090.468600</td>\n",
       "    </tr>\n",
       "    <tr>\n",
       "      <th>1950-04</th>\n",
       "      <td>1158.511224</td>\n",
       "      <td>1158.511224</td>\n",
       "    </tr>\n",
       "    <tr>\n",
       "      <th>1950-05</th>\n",
       "      <td>1211.802740</td>\n",
       "      <td>1211.802740</td>\n",
       "    </tr>\n",
       "    <tr>\n",
       "      <th>1950-06</th>\n",
       "      <td>1097.045020</td>\n",
       "      <td>1211.802740</td>\n",
       "    </tr>\n",
       "    <tr>\n",
       "      <th>1950-07</th>\n",
       "      <td>1209.382430</td>\n",
       "      <td>1211.802740</td>\n",
       "    </tr>\n",
       "    <tr>\n",
       "      <th>1950-08</th>\n",
       "      <td>1272.754070</td>\n",
       "      <td>1272.754070</td>\n",
       "    </tr>\n",
       "    <tr>\n",
       "      <th>1950-09</th>\n",
       "      <td>1329.137075</td>\n",
       "      <td>1329.137075</td>\n",
       "    </tr>\n",
       "    <tr>\n",
       "      <th>1950-10</th>\n",
       "      <td>1333.921969</td>\n",
       "      <td>1333.921969</td>\n",
       "    </tr>\n",
       "    <tr>\n",
       "      <th>1950-11</th>\n",
       "      <td>1369.671077</td>\n",
       "      <td>1369.671077</td>\n",
       "    </tr>\n",
       "    <tr>\n",
       "      <th>1950-12</th>\n",
       "      <td>1595.940739</td>\n",
       "      <td>1595.940739</td>\n",
       "    </tr>\n",
       "  </tbody>\n",
       "</table>\n",
       "</div>"
      ],
      "text/plain": [
       "              Wealth        Peaks\n",
       "1950-01  1061.800000  1061.800000\n",
       "1950-02  1090.468600  1090.468600\n",
       "1950-03  1085.561491  1090.468600\n",
       "1950-04  1158.511224  1158.511224\n",
       "1950-05  1211.802740  1211.802740\n",
       "1950-06  1097.045020  1211.802740\n",
       "1950-07  1209.382430  1211.802740\n",
       "1950-08  1272.754070  1272.754070\n",
       "1950-09  1329.137075  1329.137075\n",
       "1950-10  1333.921969  1333.921969\n",
       "1950-11  1369.671077  1369.671077\n",
       "1950-12  1595.940739  1595.940739"
      ]
     },
     "execution_count": 77,
     "metadata": {},
     "output_type": "execute_result"
    }
   ],
   "source": [
    "#the results of the year of 1950 for Large caps for wealth and peaks\n",
    "drawdown(returns[\"1950\"][\"Small Cap\"])[[\"Wealth\",\"Peaks\"]].head(100)"
   ]
  },
  {
   "cell_type": "code",
   "execution_count": null,
   "id": "20ac2bf0",
   "metadata": {},
   "outputs": [],
   "source": [
    "#Thanks."
   ]
  }
 ],
 "metadata": {
  "kernelspec": {
   "display_name": "Python 3",
   "language": "python",
   "name": "python3"
  },
  "language_info": {
   "codemirror_mode": {
    "name": "ipython",
    "version": 3
   },
   "file_extension": ".py",
   "mimetype": "text/x-python",
   "name": "python",
   "nbconvert_exporter": "python",
   "pygments_lexer": "ipython3",
   "version": "3.8.8"
  }
 },
 "nbformat": 4,
 "nbformat_minor": 5
}
